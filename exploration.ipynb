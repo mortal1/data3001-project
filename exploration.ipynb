{
 "cells": [
  {
   "cell_type": "code",
   "execution_count": 4,
   "metadata": {},
   "outputs": [
    {
     "data": {
      "text/html": [
       "<div>\n",
       "<style scoped>\n",
       "    .dataframe tbody tr th:only-of-type {\n",
       "        vertical-align: middle;\n",
       "    }\n",
       "\n",
       "    .dataframe tbody tr th {\n",
       "        vertical-align: top;\n",
       "    }\n",
       "\n",
       "    .dataframe thead th {\n",
       "        text-align: right;\n",
       "    }\n",
       "</style>\n",
       "<table border=\"1\" class=\"dataframe\">\n",
       "  <thead>\n",
       "    <tr style=\"text-align: right;\">\n",
       "      <th></th>\n",
       "      <th>index</th>\n",
       "      <th>x</th>\n",
       "      <th>y</th>\n",
       "      <th>z</th>\n",
       "      <th>gamma</th>\n",
       "      <th>exp</th>\n",
       "      <th>obs</th>\n",
       "    </tr>\n",
       "  </thead>\n",
       "  <tbody>\n",
       "    <tr>\n",
       "      <th>0</th>\n",
       "      <td>1</td>\n",
       "      <td>-3.512</td>\n",
       "      <td>-33.674</td>\n",
       "      <td>-14.723</td>\n",
       "      <td>0.766105</td>\n",
       "      <td>0.551831</td>\n",
       "      <td>0</td>\n",
       "    </tr>\n",
       "    <tr>\n",
       "      <th>1</th>\n",
       "      <td>2</td>\n",
       "      <td>-1.390</td>\n",
       "      <td>-34.119</td>\n",
       "      <td>-11.579</td>\n",
       "      <td>0.286887</td>\n",
       "      <td>0.548329</td>\n",
       "      <td>0</td>\n",
       "    </tr>\n",
       "    <tr>\n",
       "      <th>2</th>\n",
       "      <td>3</td>\n",
       "      <td>1.629</td>\n",
       "      <td>-36.312</td>\n",
       "      <td>-11.147</td>\n",
       "      <td>0.535520</td>\n",
       "      <td>0.621959</td>\n",
       "      <td>2</td>\n",
       "    </tr>\n",
       "    <tr>\n",
       "      <th>3</th>\n",
       "      <td>4</td>\n",
       "      <td>4.865</td>\n",
       "      <td>-35.872</td>\n",
       "      <td>-9.157</td>\n",
       "      <td>0.688981</td>\n",
       "      <td>0.579143</td>\n",
       "      <td>1</td>\n",
       "    </tr>\n",
       "    <tr>\n",
       "      <th>4</th>\n",
       "      <td>5</td>\n",
       "      <td>7.371</td>\n",
       "      <td>-38.625</td>\n",
       "      <td>-8.349</td>\n",
       "      <td>0.442748</td>\n",
       "      <td>0.575410</td>\n",
       "      <td>0</td>\n",
       "    </tr>\n",
       "    <tr>\n",
       "      <th>...</th>\n",
       "      <td>...</td>\n",
       "      <td>...</td>\n",
       "      <td>...</td>\n",
       "      <td>...</td>\n",
       "      <td>...</td>\n",
       "      <td>...</td>\n",
       "      <td>...</td>\n",
       "    </tr>\n",
       "    <tr>\n",
       "      <th>867</th>\n",
       "      <td>868</td>\n",
       "      <td>-12.577</td>\n",
       "      <td>-52.381</td>\n",
       "      <td>-22.296</td>\n",
       "      <td>0.353039</td>\n",
       "      <td>0.586997</td>\n",
       "      <td>0</td>\n",
       "    </tr>\n",
       "    <tr>\n",
       "      <th>868</th>\n",
       "      <td>869</td>\n",
       "      <td>-10.479</td>\n",
       "      <td>-51.784</td>\n",
       "      <td>-19.900</td>\n",
       "      <td>0.380064</td>\n",
       "      <td>0.597300</td>\n",
       "      <td>0</td>\n",
       "    </tr>\n",
       "    <tr>\n",
       "      <th>869</th>\n",
       "      <td>870</td>\n",
       "      <td>-6.981</td>\n",
       "      <td>-50.668</td>\n",
       "      <td>-18.703</td>\n",
       "      <td>0.392629</td>\n",
       "      <td>0.529663</td>\n",
       "      <td>0</td>\n",
       "    </tr>\n",
       "    <tr>\n",
       "      <th>870</th>\n",
       "      <td>871</td>\n",
       "      <td>-3.920</td>\n",
       "      <td>-51.828</td>\n",
       "      <td>-16.712</td>\n",
       "      <td>0.431890</td>\n",
       "      <td>0.630496</td>\n",
       "      <td>0</td>\n",
       "    </tr>\n",
       "    <tr>\n",
       "      <th>871</th>\n",
       "      <td>872</td>\n",
       "      <td>-0.265</td>\n",
       "      <td>-51.240</td>\n",
       "      <td>-17.140</td>\n",
       "      <td>0.545604</td>\n",
       "      <td>0.550043</td>\n",
       "      <td>0</td>\n",
       "    </tr>\n",
       "  </tbody>\n",
       "</table>\n",
       "<p>872 rows × 7 columns</p>\n",
       "</div>"
      ],
      "text/plain": [
       "     index       x       y       z     gamma       exp  obs\n",
       "0        1  -3.512 -33.674 -14.723  0.766105  0.551831    0\n",
       "1        2  -1.390 -34.119 -11.579  0.286887  0.548329    0\n",
       "2        3   1.629 -36.312 -11.147  0.535520  0.621959    2\n",
       "3        4   4.865 -35.872  -9.157  0.688981  0.579143    1\n",
       "4        5   7.371 -38.625  -8.349  0.442748  0.575410    0\n",
       "..     ...     ...     ...     ...       ...       ...  ...\n",
       "867    868 -12.577 -52.381 -22.296  0.353039  0.586997    0\n",
       "868    869 -10.479 -51.784 -19.900  0.380064  0.597300    0\n",
       "869    870  -6.981 -50.668 -18.703  0.392629  0.529663    0\n",
       "870    871  -3.920 -51.828 -16.712  0.431890  0.630496    0\n",
       "871    872  -0.265 -51.240 -17.140  0.545604  0.550043    0\n",
       "\n",
       "[872 rows x 7 columns]"
      ]
     },
     "execution_count": 4,
     "metadata": {},
     "output_type": "execute_result"
    }
   ],
   "source": [
    "import pandas as pd\n",
    "\n",
    "data = pd.read_csv(\"data/AF-O43526-F1-model_v3.tsv\", sep='\\t')\n",
    "data"
   ]
  },
  {
   "cell_type": "code",
   "execution_count": 20,
   "metadata": {},
   "outputs": [
    {
     "data": {
      "text/plain": [
       "(array([24., 41., 38., 51., 52., 38., 52., 48., 59., 63.]),\n",
       " array([0.01963754, 0.11698668, 0.21433582, 0.31168496, 0.4090341 ,\n",
       "        0.50638325, 0.60373239, 0.70108153, 0.79843067, 0.89577981,\n",
       "        0.99312895]),\n",
       " <BarContainer object of 10 artists>)"
      ]
     },
     "execution_count": 20,
     "metadata": {},
     "output_type": "execute_result"
    },
    {
     "data": {
      "image/png": "[encoded data removed]",
      "text/plain": [
       "<Figure size 432x288 with 1 Axes>"
      ]
     },
     "metadata": {
      "needs_background": "light"
     },
     "output_type": "display_data"
    }
   ],
   "source": [
    "import matplotlib.pyplot as plt\n",
    "\n",
    "# plt.scatter(data.gamma*data.exp, data.obs)\n",
    "plt.hist(data['gamma'][96:318], alpha = 0.5)\n",
    "plt.hist(data['gamma'][466:650], alpha = 0.5)\n",
    "plt.hist(pd.concat([data['gamma'][:96], data['gamma'][318:466], data['gamma'][650:]]), alpha = 0.5)"
   ]
  },
  {
   "cell_type": "code",
   "execution_count": 15,
   "metadata": {},
   "outputs": [
    {
     "data": {
      "text/plain": [
       "(array([ 69., 101.,  67.,  99.,  95.,  83.,  85.,  77.,  99.,  97.]),\n",
       " array([0.00967089, 0.10842501, 0.20717913, 0.30593324, 0.40468736,\n",
       "        0.50344147, 0.60219559, 0.70094971, 0.79970382, 0.89845794,\n",
       "        0.99721206]),\n",
       " <BarContainer object of 10 artists>)"
      ]
     },
     "execution_count": 15,
     "metadata": {},
     "output_type": "execute_result"
    },
    {
     "data": {
      "image/png": "[encoded data removed]",
      "text/plain": [
       "<Figure size 432x288 with 1 Axes>"
      ]
     },
     "metadata": {
      "needs_background": "light"
     },
     "output_type": "display_data"
    }
   ],
   "source": [
    "\n",
    "plt.hist(data['gamma'])"
   ]
  },
  {
   "cell_type": "code",
   "execution_count": 21,
   "metadata": {},
   "outputs": [
    {
     "data": {
      "text/plain": [
       "<matplotlib.collections.PathCollection at 0x21e1e70b9d0>"
      ]
     },
     "execution_count": 21,
     "metadata": {},
     "output_type": "execute_result"
    },
    {
     "data": {
      "image/png": "[encoded data removed]",
      "text/plain": [
       "<Figure size 432x288 with 1 Axes>"
      ]
     },
     "metadata": {
      "needs_background": "light"
     },
     "output_type": "display_data"
    }
   ],
   "source": [
    "\n",
    "plt.scatter(data.gamma*data.exp, data.obs)"
   ]
  }
 ],
 "metadata": {
  "kernelspec": {
   "display_name": "Python 3.8.10 ('hw1': venv)",
   "language": "python",
   "name": "python3"
  },
  "language_info": {
   "codemirror_mode": {
    "name": "ipython",
    "version": 3
   },
   "file_extension": ".py",
   "mimetype": "text/x-python",
   "name": "python",
   "nbconvert_exporter": "python",
   "pygments_lexer": "ipython3",
   "version": "3.8.10"
  },
  "orig_nbformat": 4,
  "vscode": {
   "interpreter": {
    "hash": "ffa5edc0387810485db66e4d31ebe97c3bd558a55682ec10bd72302249185cba"
   }
  }
 },
 "nbformat": 4,
 "nbformat_minor": 2
}
