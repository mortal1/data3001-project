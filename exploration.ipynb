{
 "cells": [
  {
   "cell_type": "code",
   "execution_count": 11,
   "metadata": {},
   "outputs": [],
   "source": [
    "import pandas as pd\n",
    "import numpy as np\n",
    "from helpers import *"
   ]
  },
  {
   "cell_type": "code",
   "execution_count": 13,
   "metadata": {},
   "outputs": [
    {
     "name": "stdout",
     "output_type": "stream",
     "text": [
      "[  0 478 363 718 145 284 146 324 209 682 147 198 815 148 483 337 149 485\n",
      " 151  90 300 749 152 261 215 153 154 705 155 156 244 294 157 283  92  91\n",
      " 813 144 143 142 141 457 176 177 217 460 178 462 179 180 181 161 263 160\n",
      " 159 158 470 139 472 140 150  44 346  24 258 281  25  43  22  20 240   1\n",
      "   2   3   4   5 531  13   7   8   9  10 323 241 802  11 537 672 538  12\n",
      " 818  23   6  42  33  26  27  28  29  30  31 506  32 509  40 328 510  34\n",
      " 195 290  35 335  36 212  37  38  39 517 175 276 174 173  96 332 392 393\n",
      " 131 395 396 322 288 132 133 205 134 277 347 192 242 401 410 135 114 112\n",
      " 254  93  94  95 408 409 273 391 390 389 388 116 296 117 227 118 231 119\n",
      " 120 121 122 334 123 379 755 124 125 345 761 245 751 137 223 126 127 128\n",
      " 385 129 130 115  97 443  98 138 162 438 253 163 440 441 256 164 723 165\n",
      " 673 182 445 446 166 167 275 285 168 169 170 365 172 434 136 113 111  99\n",
      " 100 101 102 103 104 105 421 422 423 106 425 107 108 109 110 193 430  41\n",
      " 799  14  87  16 303 302 185 626 356 266 171 620 341  64  63  61 612 608\n",
      "  59 286  58 304 203 317 315 314 310 309 639 311 318 606 570 568  78 607\n",
      "  77  76 562 259 360 558  71 553  67 550 549  72  81 355 575 604  55  53\n",
      "  52  51  50 595 594  48 588  68  88  86 580 579  85 208 306 566  83  84\n",
      " 325 583  69 270  89  66 352  47  49 593 599  54 708  56 218 228 330  82\n",
      " 233  17  18  19 547  21  45  46  70  80  73  74  75 565  79 571  57 611\n",
      " 312 651 307 649 313 644 316 308 643 202 319 305  60 191 614  62 619  65\n",
      " 184 624 301 629 630 633 364 183 368 368 183 116 117 118 119 120 121 122\n",
      " 123 693 124 125 126 127 128 222 129 130 289 344 280 224 287 264 131 262\n",
      " 735 132 133 134 115 348 135 114 112  93  94  95 282 808 709  96  97  98\n",
      "  99 100 101 102 103 104 105 361 331 186 106 338 107 108 109 110 710 111\n",
      " 113 136 201 368 138 162 297 163 358 190 164 274 165 298 353 166 167 168\n",
      " 169 170 172 182 173 174 175 349 176 177 326 178 210 179 180 181 161 160\n",
      " 159 158 320 139 329 140 141 142 143 144 676 145 146 147 148 339 149 291\n",
      " 150 151 152 153 154 155 156 157  92  91  90  44  24  25  26  27  28  29\n",
      "  30  31 816  32  33 204 246  34  35  36  37  38  39 327  40  41  42  23\n",
      "  43  22  20   1   2   3   4   5   6 354   7   8   9  10  11 279 216  12\n",
      "  13  14  15  16  17  18  19 342  21 299 248  45  67 278  46  70  71  72\n",
      " 219  73  74  75 257  76  77 196 667  78 194  79 252 336  80  81  82 357\n",
      "  83  84  85 188 321  86  87 200  88  69  89  68 350  66  47  48  49 221\n",
      " 292 367  50  51  52 293  53  54  55  56 247  57 213 333 269  58  59 238\n",
      " 260  60 690  61  62  63  64 366 220  65 171 184 187 356 272 185 301 214\n",
      " 251 302 303 211 304 305 306 307 308 670 309 310 311 343 340 312 313 314\n",
      " 315 655 316 295 317 318 319 239 300 320 299 297 278 279 280 281 282 283\n",
      " 284 359 285 286 189 287 226 235 288 289 234 290 291 292 293 294 207 295\n",
      " 296 298 321 322 323 347 265 282 348 351 349 350 351 352 353 354 355 357\n",
      " 367 278 358 197 359 360 225 237 206 361 362 363 364 365 366 346  15 345\n",
      " 344 343 324 255 325 326 327 328 329 330 355 331 332 333 334 229 335 336\n",
      " 267 324 337 338 339 340 341 342 277 276 673 738 275 230 229 320 209 236\n",
      " 210 211 212 213 214 362 215 216 217 218 219 220 221 222 223 224 225 226\n",
      " 227 208 228 207 205 186 187 188 189 362 190 191 229 192 193 350 735 194\n",
      " 195 343 196 217 197 198 211 199 199 336 268 200 223 325 201 202 232 203\n",
      " 332 204 206 271 230 243 249 252 250 329 231 255 256 257 258 259 260 261\n",
      " 262 263 264 265 266 267 206 268 269 270 271 272 273 254 274 253 251 363\n",
      " 232 233 738 234 235 236 255 237 238 225 212 239 240 241 242 243 244 245\n",
      " 246 247 213 248 249 250 137  15]\n",
      "[  0  84  65  66 225 224  67  68 156  69  64  70 218 217  71  73 214  24\n",
      "  82  74 219  42 239  90 116 166  41 141 247  83 246  10  11  12  13  14\n",
      "   9 109  86 240 159 110 238  15 133  16  17 108  19 139 352  40 232  75\n",
      " 229 210  47 286 187  49 300 123 131  50 140  96  51  52 182 181  48  53\n",
      "  55  56  77 176  57 165 112 114  58  59  91 340  54 190  94  61  22 125\n",
      " 191 310  78 206  79  80 106 203  81  63 147 170  62 117  60  43  44 195\n",
      " 194  45  46 294  76   8 270  32 278  34  28  97 137  31   6 111  85 168\n",
      " 257 259 251  39  21  38 102 289 146 158  89  27  30  33 283 307 154  36\n",
      " 319   2  92  20 267  37  35   3  23 148  18 261   1 256 357   4 121  99\n",
      "   5 305 100  72  29  25  26 169 126 169 126  59  58  57 160  56  55  54\n",
      "  53 104  88  52  51  50  49 103  48  47 132 118  46  45 128 338  44  43\n",
      "  60  61  62  63  81 320  80  79 351  78 170  76 302  75  74  82 167  73\n",
      "  71 138 129 342  70  69  68  67 134 107  66  65  64 318  42  41 142  40\n",
      "  19  17  16  15   7 312 157  14  13  12  11  10 151 150   9   8   7 113\n",
      "   6   5   4   3 153 135   2 287   1 313  18  20  39  21  38 162  37  36\n",
      " 145  35  34  33  32  31  30  29  87  28  27  26  25 130  24  23 120  95\n",
      "  22 124  72  83  84  85 149 145 144 143 142 141 155 140 127 139 138 317\n",
      " 145 163 137 136 164 135  98 136 134 133 132 119 101 144 161 131 130 129\n",
      " 146 147 148 149 167 166 165 164 163 162 161 160 168 129 366 159 152 157\n",
      " 122 167 156 155 154 153 152 151 150 115 105 128 158 154 127 143 158 152\n",
      " 166 115 102 101 100  99  93  98  97  96  95 136  94 158 319  93  92  91\n",
      "  90  89  88 319 153  87 168  86 103 104 105 106 144 161 124 123 122 121\n",
      " 120 119 342 118 117 125 116 114 143 132 128 113  87 112 111 110 109 108\n",
      " 107 319  77   7]\n",
      "[132 192  50 179 103  51  78  79  80  28  82 274  83 371 272 159 195 271\n",
      "  84 187  85  86  87  89 265 264 100 262 261 260  53  49  21   2 286   3\n",
      "   4   5   6 305 304   8   9 301  11 299 298 297  12 160  13  14  15  16\n",
      " 291 150 189  18  19  20 162 287  91  31  93  94 228  61 226 225 125 223\n",
      "  74 221 444  64  65 184  66  68  69 214 106 213  71 200 211  72 190  73\n",
      " 208 207 154  58 110 231 412 232  95 254 253 128 473 252 281  22   7 249\n",
      "  99 247  77 245 141  88  76  62  52   0 239 118  54  55 236  56  57 233\n",
      "  36 373   1 417 174 175 177 350 404  26 148 157 194 178 176 359 169  10\n",
      "  59  30  24 136 321 122  42  39 109  48  37  35 334 193 337 424 401  29\n",
      "  23 338 143  32  33 332 457 330 180 111 166  38 153 188  41 323  43 133\n",
      " 203 196  45  46 158 317  25 313 168 170 171 356 172 173 167 145 102 347\n",
      "  60 346 345 419  27 101 204 204 101  98 146  73  72 186  71 161 413  69\n",
      "  68  67  66  65  64 126  74 142  63 127 104  61 147  59  58  40 418 116\n",
      "  57  56 155  55  54 201   0  52  62  76  88 151  77 199  99  47  97  96\n",
      " 181 399 139  95  94  93  92  91 130 366 182 100  75 185  89  87  86  85\n",
      "  84 152 156  83 202  82  81  80  79  78  51 108  50  49  36  21  63 183\n",
      "  20  19  18 488  16  15  14  13  12 388 191 113  11 340   9   8 124 410\n",
      "   6   5   4   3   2   1  22 165  23  24  25 149  47  46  45  67  43 119\n",
      "  42  41  40  39  38  48 115  37 114  35 134  33  32  81 382  30 135  29\n",
      "  28  27  26 131  92 448 102 178  17 176 175 174 173 172 164 171 170 197\n",
      " 169 168 167 177 166 164  34 162 161 117 160 137 159 107 158 157 156 155\n",
      " 165 179 191 180 198 202 201 200 199 198 428 197 196 195 194 193 203 192\n",
      " 190 189 188 112 187 123 186 185 454 184 183 186 182 165 475 181  90 144\n",
      " 153 152 139 105 120 121 123 122 121 190  97 119 118 117 492 116 115 114\n",
      " 113 112 111 157 110 109 108 164 107 106 105 104 138 126 127 128 140 150\n",
      " 149 148 147 146 129 145 144 163 143 194 185 142 141 151 143 140 138 203\n",
      " 137 136 159 135 141  96 133  70 131 130 129 193  53 204 132 134 153 125\n",
      " 184 153  44 120 124 154 369 163 103  75  31  34  44   7 201  10  17 154\n",
      " 203  90  98 147 130  60  70 161 410  47 369  40 340  28  97  96  67 488\n",
      "  59  63  92  81 281 138 158]\n",
      "[  0  15  76  29  16  17  18  19  20 178  21 160  22  23  24  25  13  26\n",
      "  28  30  63  94  64  97  98  99 100 139 101 102 103  27  12  11  10  49\n",
      "  50  51  52  53  54 368 496  55  56  57  58  59  60  32  46  31  14   1\n",
      "   2   3   4   5   6   7   8 349   9 104 148  48 493 105 137 107  72  73\n",
      "  74 154  75 255 277  77  79  93  80  81  82 129  71  83  85  86 266  87\n",
      "  88 263 487  89  90  91  92 126 254  84  70  69  68 147 108 109 111 125\n",
      " 112 113 146 225 307 114 115 485 152 116 256 118 301 119 120 121 122 296\n",
      " 123 479 124  96 174 110  95 140  78  65  66 171  67 191 106  61 161  45\n",
      " 169 241 446 243 244 246 247 251 253 224 238 223 432 206 193 194 450 134\n",
      " 237 236 461 235 168 546 459 239 234 149 428 179 219 128 190 127  62 395\n",
      " 230 394 175 195 229  35  36 183  38 167  39 519  42 380  44 220 218 217\n",
      " 198 186 200 201 192 202 231 203 204 205 207 221 414 508 209 211 132 213\n",
      " 145 164 163 216  34 215 214 407 212  47 210 208 158 156 199 197 189 227\n",
      " 159  43  41  40 386  37 389  33 196 252 233 232 454 462 451 250 249 248\n",
      " 245 242 240 117 181 254 126  92  91  90  89 153  88  87 172  86  85  84\n",
      "  83  82  81  80  93  79  77 143 255  75  74  73  72  71  70  69  68  67\n",
      "  66  65  78  95 110  96 124 123 185 122 121 120 119 155 118 117 116 115\n",
      " 114 222 113 112 125 111 109 108 107 106 105 104 103 102 101 100  99  98\n",
      "  97  64  94  63  30  28  27  26  25  24  23  22  21  20  19  18  17  16\n",
      "  29  15  13  12  11  10   9 141   8   7   6   5   4   3   2   1  14  31\n",
      "  46  32  60  59  58  57  56  55 157  54  53  52  51  50  49  48  61  47\n",
      "  45  44 150  43  42  41  40  39 499  38  37 136  36  35  34  33 131 162\n",
      "  62 127 190 128 220 219 218 217 216 215 214 177 213 212 211 210 209 208\n",
      " 180 221 207 205 204 203 202 201 200 199 198 197 196 195 173 194 193 206\n",
      " 480 223 238 224 252 251 250 249 248 247 246 245 244 243 228 242 241 240\n",
      " 135 142 253 239 188 237 236 235 234 170 233 482 130 232 231 230 229 228\n",
      " 227 226 225 192 222 191 158 156 155 154 153 151 184 152 176 151 150 187\n",
      " 149 133 148 147 146 145 144 226 229 157 138 143 141 144 140 139 138 137\n",
      " 136 144 141 135 529 134 133 132 131 130 226 154 508 129 142 166 159 174\n",
      " 131 160 188 187 186 185 184 182 183 182 181 180 179 178 177 176 189 175\n",
      " 173 172 171 170 169 168 165 167 166 165 519 164 163 162 161  76  47]\n",
      "[  0 251  20 253  36 263  33 258  32  30 262 247   8   1   4   5   6 239\n",
      "   7  10  11  29 138 135 283 139 292 294  80  79  78 274 273 271  26  27\n",
      "  13 264  59 187 184  60 117 176 174  57  51  54  55  56  47  76 227  15\n",
      "  16 222 221  61  62  63  68 205  69  70  74 133  77  73  72 161 141  85\n",
      " 204 144 207  67  66  65 211 228  95  40  39  38  18 224  14  88  75  64\n",
      " 146 118  53 168  52 311  50 121 173  49 177  46  45  44  43  42 150 185\n",
      "  41 188  48  58 191 193 230 229  25  24  23 275  22  21 338 302 129 282\n",
      "  84 107 132  96 134 136 137  94 285  81 348 280  37  35  12 234  17   9\n",
      " 149   3   2 128 143  71  19  31  93 156  34 305 100 145  28 249 120 214\n",
      " 161 120  56  55  54  53 122  52  51  50  57 159 158  49 385 110  47  46\n",
      "  45  44  43  42 324  82  41  87  90  48  58 142  59 109  60  77  76  75\n",
      "  74  73  72 161  70  69 153 103  68  86  67  66  65  97  64  63 101  62\n",
      "  61  40  39  38  18 108  92  16 105  15  14 314 358 154 131  13  12  11\n",
      " 106  10  17   9   7  89   6   5   4   3   2   1   8 111  19 126  28 140\n",
      "  20 315  36  35  34  33 127  32  31  30  98  99 119  37  29  27  26  25\n",
      "  24 112  23 148 155 364  22  21  78  79 130  80 114 300  81 123 138 137\n",
      " 136 135 134 133 147 132 157 139 131 129 128 127 322 126 373 125 124 160\n",
      " 123 128 130 140 141 116 142 159 318 152 158 157 104 156 155 154 354 153\n",
      "  91 152 151 153 150 149 148 147 146 145 144 143 122 315 115 160 121 159\n",
      " 119  97  96  95 322  94 102 157  93  92  91 130 125  98  90  88  83 131\n",
      "  87  86 123  85 113  84 152  83  82  89  84  99 100 124 101 118 117 116\n",
      " 115 114 113 112 111 110 109 151 108 107 106 151 105  98 311 104  83 114\n",
      " 103 102 124 130 146  71 125]\n",
      "[113 114  16 163 105 126 115 117  17  30 160  41  97  42  43 121  66  67\n",
      "  68 120  93  69 218 101  70  71 323  72  73  15  14  13  12  39  21  20\n",
      "  19  18   1   2  38   3   5   6   7   8   9  10  11  75  84  76  49 118\n",
      "  51  53   0 187  54  55  56  57  58  59  60 179  61 177 129  50  48 123\n",
      " 107  77  47  91  99 122  78  36  79  80 103 111  81  82 154 204  83  65\n",
      " 112  74  64 106  52  44 197  45  46   4 161  37 322 157 165 167 302 168\n",
      "  89 119 171 169 162 290 133 287 140 152 293 153 170 166 108 132 135 143\n",
      "  34  62  33 134  31 110  28  27  26  25 100  24  23  63  85 158  86  90\n",
      "  35 137 155 159 138 139 102 141 150 278 136 142 144 145 146 147 148 149\n",
      "  40 125  87  22  29  32  94 301 172 294 164 173 104 173 129  92  61  98\n",
      "  60  59  58  57  56  55  54 116   0  53  51  50  49  48  47  46  45  88\n",
      "  44  52  64  74  65  83 127  82  81  80  79  78  77  76  84  75  73  72\n",
      "  71  70  96  69  68  67  66  43  42  41  30  17  16  15  14  13  12  11\n",
      "  10   9   8   7   6   5   4   3   2   1  18  19  20  21  39  38  37  36\n",
      "  35  34  33  32  40  31  29  28  27  26  25  24  23  22  63  85  86  87\n",
      " 149 148 147 146 145 144 143 142 130 150 141 139 138 137 136 135 134 151\n",
      " 133 132 131 140 152 174 128 162 153 171 170 169 168 109 156 167 166 165\n",
      " 164 172 163 161 160 159 158 157 156 155 154 131 151 130 124 107 320  95\n",
      " 105 104 103 102 101 100  99  98 106  97  95  94  93 156  92  91 322  90\n",
      "  89  88 106 154  96 108 118  97 109 127 320 126 125 124 123 122 121 109\n",
      " 120 128  92 119 117 105 116 115 114 113 117 112 154 111 110  62 174]\n",
      "[  0  83  86   9  52  90   4   3  43  11  47   5  80  31  81  61  37  54\n",
      "  24  65  22  49  56  20  14  27  15  16  28  73  17  18  12  58  21  55\n",
      "  23  45  25  33  26 120 119  29  13   1   2  30  93   6  41  38   7   8\n",
      " 109  10  84 107  74  58  28 111  26  25  24  44  23  22  21  20  58  18\n",
      "  17  39  35  16  15  27  14  12  51 118  11  46  34  10  19   9   8   7\n",
      "  48   6   5  53   4   3   2   1  13  29  43  30  56  55  54  53  52  50\n",
      "  51  42  50  57  49  48  47  46  52  45  40  32  36  57 111  44  42  41\n",
      "  40 109  39  47  38  37  36  53  35  34  53  33  32  31  19  31]\n",
      "[   0   12   13 ... 1954   14 1919]\n",
      "[  0 235 233 ... 633 853 963]\n",
      "[  0 456  14  16  35  36  66  62 476  64  65  10   9  15 263 178  27  28\n",
      "  29  30 220 429  18 433 442   8 446  44 530 505  53  38 495 247 529 504\n",
      "  51 501  37 486 146  50 515  49  48 192 509 441 325 329 332  78  24 336\n",
      " 291 341 540 256  83 199 346  86 228 161 107 165  81 298  94 151 300  95\n",
      "  97 101 308  91 315  90  80 111 113 114 391 115 393 162 394 169 117 396\n",
      " 119 120 122 407  73 410  70  19  20 387 357 129 368 135 140 127 126 380\n",
      " 335 180 242 384 116 382 125 563 142 141 227 200 139 373 138 110 226 137\n",
      " 367 134 133 132 363 131 130 360 358 213 136 121 112  21 201  72 143 409\n",
      " 406 123 404  22 400 234 118 124 258 255 282 292 109  75 320 319  74 230\n",
      " 207  98 105 104 103 222 102 279 321 106  99 283  96 182 273 225 297  93\n",
      "  92 144 290 100 323 324 352  89  87 179 240  85  84  82 342 276 340  88\n",
      "  79 252 334 254 331  77 328 327  76 270 108  23 186  26 145  71 516 259\n",
      "  46 158 248 223  69  52 490  43 566 498  42 502 507 483  41  40  39 262\n",
      " 488  54  45 513 523 522 217 525 508 526  47 518  67  57 447 219 444   6\n",
      "  68   5   4   3   2 436   1   7  17 229  25  32  31 426 154  33 448 479\n",
      " 475  63 473  61  60  59  58 467 202 466  56  55 203 194 460  34 549  13\n",
      "  12 453  11 128 253 290 144  92  93 193 187  94 278  95  96  97  99 106\n",
      " 100 101 249 102 103 104 105  91  98 287  90  80  74 175 210 235  75 153\n",
      " 189 191  76 281 264 237  77 244 157  78 241 171 271  79  81  88 166 218\n",
      " 284  82  83  84 604  85  86  87  89 107 531 291 108 109 128 286 251 129\n",
      " 231 130 131 152 132 133 134 277 181 135 136 137 138 551 139 140 141 142\n",
      " 127 126 272 125 215 116 550 110 111 164 112 113 114 285 115 208 610 117\n",
      " 163 124 118 119 176 120 121 122 190 123 280 188  73 149 266 143  72  70\n",
      "  19  20  21  22  23  24  26  33  27  28  29  30 274  31  32 257  18  25\n",
      "  17 167   7   1 197   2   3   4   5 172 159   6 289   8 160 221 232  15\n",
      "   9  10  11 204  12  13 261  14  16  34 245  35  36  55  56  57 214 184\n",
      "  58  59  60  61  62 224  63 571 196  64  65 233  66  67  68 250  69  54\n",
      " 607  53 216  52 209  43  37  38  39 236  40  41 148  42  44 288 239  51\n",
      " 150 212  45 206 238 211  46  47  48 275  49 156 183  50 260  71 145 217\n",
      " 174 168 146 173 536 238 239 243 185 198 240 241 242 243 267 245 252 246\n",
      " 155 247 248 249 250 251 237 244 236 676 269 565 226 220 221 222 223 224\n",
      " 225 227 234 228 551 205 229 246 195 230 231 232 233 590 235 253 254 255\n",
      " 274 275 276 277 278 279 280 281 282 283 284 285 286 287 177 246 288 273\n",
      " 272 271 262 256 257 258 259 260 261 263 265 270 529 170 264 265 147 266\n",
      " 267 268 269 219 289 218 216 165 287 252 166 167 168 169 170 172 179 173\n",
      " 174 175 176 177 289 178 164 171 163 153 147 148 149 150 151 152 154 161\n",
      " 155 156 157 158 159 160 162 180 181 182 201 202 203 204 205 206 207 208\n",
      " 209 210 211 212 270 213 214 272 215 265 268 200 199 180 198 189 264 235\n",
      " 225 210 183 184 185 186 187 188 190 197 268 191 192 283 259 193 194 282\n",
      " 195 266 196 239 274]\n"
     ]
    }
   ],
   "source": [
    "for protein_name in PROTEINS:\n",
    "    df = pd.read_csv(f\"data/AF-{protein_name}-F1-model_v3.tsv\", sep='\\t')\n",
    "    gamma = df.obs/df.exp\n",
    "    order = np.argsort(gamma)\n",
    "    score = np.arange(len(df))\n",
    "    score[order] = score\n",
    "    save_colouring(score, f\"data/{protein_name}_raw_scores.tsv\")\n",
    "    print(score)"
   ]
  },
  {
   "cell_type": "code",
   "execution_count": 14,
   "metadata": {},
   "outputs": [
    {
     "data": {
      "text/html": [
       "<div>\n",
       "<style scoped>\n",
       "    .dataframe tbody tr th:only-of-type {\n",
       "        vertical-align: middle;\n",
       "    }\n",
       "\n",
       "    .dataframe tbody tr th {\n",
       "        vertical-align: top;\n",
       "    }\n",
       "\n",
       "    .dataframe thead th {\n",
       "        text-align: right;\n",
       "    }\n",
       "</style>\n",
       "<table border=\"1\" class=\"dataframe\">\n",
       "  <thead>\n",
       "    <tr style=\"text-align: right;\">\n",
       "      <th></th>\n",
       "      <th>index</th>\n",
       "      <th>x</th>\n",
       "      <th>y</th>\n",
       "      <th>z</th>\n",
       "      <th>gamma</th>\n",
       "      <th>exp</th>\n",
       "      <th>obs</th>\n",
       "    </tr>\n",
       "  </thead>\n",
       "  <tbody>\n",
       "    <tr>\n",
       "      <th>0</th>\n",
       "      <td>1</td>\n",
       "      <td>-3.512</td>\n",
       "      <td>-33.674</td>\n",
       "      <td>-14.723</td>\n",
       "      <td>0.766105</td>\n",
       "      <td>0.551831</td>\n",
       "      <td>0</td>\n",
       "    </tr>\n",
       "    <tr>\n",
       "      <th>1</th>\n",
       "      <td>2</td>\n",
       "      <td>-1.390</td>\n",
       "      <td>-34.119</td>\n",
       "      <td>-11.579</td>\n",
       "      <td>0.286887</td>\n",
       "      <td>0.548329</td>\n",
       "      <td>0</td>\n",
       "    </tr>\n",
       "    <tr>\n",
       "      <th>2</th>\n",
       "      <td>3</td>\n",
       "      <td>1.629</td>\n",
       "      <td>-36.312</td>\n",
       "      <td>-11.147</td>\n",
       "      <td>0.535520</td>\n",
       "      <td>0.621959</td>\n",
       "      <td>2</td>\n",
       "    </tr>\n",
       "    <tr>\n",
       "      <th>3</th>\n",
       "      <td>4</td>\n",
       "      <td>4.865</td>\n",
       "      <td>-35.872</td>\n",
       "      <td>-9.157</td>\n",
       "      <td>0.688981</td>\n",
       "      <td>0.579143</td>\n",
       "      <td>1</td>\n",
       "    </tr>\n",
       "    <tr>\n",
       "      <th>4</th>\n",
       "      <td>5</td>\n",
       "      <td>7.371</td>\n",
       "      <td>-38.625</td>\n",
       "      <td>-8.349</td>\n",
       "      <td>0.442748</td>\n",
       "      <td>0.575410</td>\n",
       "      <td>0</td>\n",
       "    </tr>\n",
       "    <tr>\n",
       "      <th>...</th>\n",
       "      <td>...</td>\n",
       "      <td>...</td>\n",
       "      <td>...</td>\n",
       "      <td>...</td>\n",
       "      <td>...</td>\n",
       "      <td>...</td>\n",
       "      <td>...</td>\n",
       "    </tr>\n",
       "    <tr>\n",
       "      <th>867</th>\n",
       "      <td>868</td>\n",
       "      <td>-12.577</td>\n",
       "      <td>-52.381</td>\n",
       "      <td>-22.296</td>\n",
       "      <td>0.353039</td>\n",
       "      <td>0.586997</td>\n",
       "      <td>0</td>\n",
       "    </tr>\n",
       "    <tr>\n",
       "      <th>868</th>\n",
       "      <td>869</td>\n",
       "      <td>-10.479</td>\n",
       "      <td>-51.784</td>\n",
       "      <td>-19.900</td>\n",
       "      <td>0.380064</td>\n",
       "      <td>0.597300</td>\n",
       "      <td>0</td>\n",
       "    </tr>\n",
       "    <tr>\n",
       "      <th>869</th>\n",
       "      <td>870</td>\n",
       "      <td>-6.981</td>\n",
       "      <td>-50.668</td>\n",
       "      <td>-18.703</td>\n",
       "      <td>0.392629</td>\n",
       "      <td>0.529663</td>\n",
       "      <td>0</td>\n",
       "    </tr>\n",
       "    <tr>\n",
       "      <th>870</th>\n",
       "      <td>871</td>\n",
       "      <td>-3.920</td>\n",
       "      <td>-51.828</td>\n",
       "      <td>-16.712</td>\n",
       "      <td>0.431890</td>\n",
       "      <td>0.630496</td>\n",
       "      <td>0</td>\n",
       "    </tr>\n",
       "    <tr>\n",
       "      <th>871</th>\n",
       "      <td>872</td>\n",
       "      <td>-0.265</td>\n",
       "      <td>-51.240</td>\n",
       "      <td>-17.140</td>\n",
       "      <td>0.545604</td>\n",
       "      <td>0.550043</td>\n",
       "      <td>0</td>\n",
       "    </tr>\n",
       "  </tbody>\n",
       "</table>\n",
       "<p>872 rows × 7 columns</p>\n",
       "</div>"
      ],
      "text/plain": [
       "     index       x       y       z     gamma       exp  obs\n",
       "0        1  -3.512 -33.674 -14.723  0.766105  0.551831    0\n",
       "1        2  -1.390 -34.119 -11.579  0.286887  0.548329    0\n",
       "2        3   1.629 -36.312 -11.147  0.535520  0.621959    2\n",
       "3        4   4.865 -35.872  -9.157  0.688981  0.579143    1\n",
       "4        5   7.371 -38.625  -8.349  0.442748  0.575410    0\n",
       "..     ...     ...     ...     ...       ...       ...  ...\n",
       "867    868 -12.577 -52.381 -22.296  0.353039  0.586997    0\n",
       "868    869 -10.479 -51.784 -19.900  0.380064  0.597300    0\n",
       "869    870  -6.981 -50.668 -18.703  0.392629  0.529663    0\n",
       "870    871  -3.920 -51.828 -16.712  0.431890  0.630496    0\n",
       "871    872  -0.265 -51.240 -17.140  0.545604  0.550043    0\n",
       "\n",
       "[872 rows x 7 columns]"
      ]
     },
     "execution_count": 14,
     "metadata": {},
     "output_type": "execute_result"
    }
   ],
   "source": [
    "\n",
    "data = pd.read_csv(\"data/AF-O43526-F1-model_v3.tsv\", sep='\\t')\n",
    "data"
   ]
  },
  {
   "cell_type": "code",
   "execution_count": 3,
   "metadata": {},
   "outputs": [
    {
     "data": {
      "text/plain": [
       "(array([24., 41., 38., 51., 52., 38., 52., 48., 59., 63.]),\n",
       " array([0.01963754, 0.11698668, 0.21433582, 0.31168496, 0.4090341 ,\n",
       "        0.50638325, 0.60373239, 0.70108153, 0.79843067, 0.89577981,\n",
       "        0.99312895]),\n",
       " <BarContainer object of 10 artists>)"
      ]
     },
     "execution_count": 3,
     "metadata": {},
     "output_type": "execute_result"
    },
    {
     "data": {
      "image/png": "[encoded data removed]",
      "text/plain": [
       "<Figure size 432x288 with 1 Axes>"
      ]
     },
     "metadata": {
      "needs_background": "light"
     },
     "output_type": "display_data"
    }
   ],
   "source": [
    "import matplotlib.pyplot as plt\n",
    "\n",
    "# plt.scatter(data.gamma*data.exp, data.obs)\n",
    "plt.hist(data['gamma'][96:318], alpha = 0.5)\n",
    "plt.hist(data['gamma'][466:650], alpha = 0.5)\n",
    "plt.hist(pd.concat([data['gamma'][:96], data['gamma'][318:466], data['gamma'][650:]]), alpha = 0.5)"
   ]
  },
  {
   "cell_type": "code",
   "execution_count": 9,
   "metadata": {},
   "outputs": [
    {
     "data": {
      "text/plain": [
       "(array([13.,  7., 20., 16., 13., 18., 17., 19., 24., 23.,  7., 17., 15.,\n",
       "        18., 10., 22., 18., 23., 18., 18., 21., 19., 18., 18., 19., 14.,\n",
       "        16., 25., 15., 13., 11., 18., 18., 23., 15., 14., 12., 13., 18.,\n",
       "        20., 21., 24., 16., 16., 22., 22., 29., 17., 16., 13.]),\n",
       " array([0.00967089, 0.02942172, 0.04917254, 0.06892336, 0.08867419,\n",
       "        0.10842501, 0.12817583, 0.14792666, 0.16767748, 0.1874283 ,\n",
       "        0.20717913, 0.22692995, 0.24668077, 0.2664316 , 0.28618242,\n",
       "        0.30593324, 0.32568407, 0.34543489, 0.36518571, 0.38493654,\n",
       "        0.40468736, 0.42443818, 0.444189  , 0.46393983, 0.48369065,\n",
       "        0.50344147, 0.5231923 , 0.54294312, 0.56269394, 0.58244477,\n",
       "        0.60219559, 0.62194641, 0.64169724, 0.66144806, 0.68119888,\n",
       "        0.70094971, 0.72070053, 0.74045135, 0.76020218, 0.779953  ,\n",
       "        0.79970382, 0.81945465, 0.83920547, 0.85895629, 0.87870712,\n",
       "        0.89845794, 0.91820876, 0.93795959, 0.95771041, 0.97746123,\n",
       "        0.99721206]),\n",
       " <BarContainer object of 50 artists>)"
      ]
     },
     "execution_count": 9,
     "metadata": {},
     "output_type": "execute_result"
    },
    {
     "data": {
      "image/png": "[encoded data removed]",
      "text/plain": [
       "<Figure size 432x288 with 1 Axes>"
      ]
     },
     "metadata": {
      "needs_background": "light"
     },
     "output_type": "display_data"
    }
   ],
   "source": [
    "\n",
    "plt.hist(data['gamma'], bins=50)"
   ]
  },
  {
   "cell_type": "code",
   "execution_count": 6,
   "metadata": {},
   "outputs": [
    {
     "data": {
      "text/plain": [
       "<matplotlib.collections.PathCollection at 0x1a4621342b0>"
      ]
     },
     "execution_count": 6,
     "metadata": {},
     "output_type": "execute_result"
    },
    {
     "data": {
      "image/png": "[encoded data removed]",
      "text/plain": [
       "<Figure size 432x288 with 1 Axes>"
      ]
     },
     "metadata": {
      "needs_background": "light"
     },
     "output_type": "display_data"
    }
   ],
   "source": [
    "\n",
    "plt.scatter(data.gamma*data.exp, data.obs)"
   ]
  },
  {
   "cell_type": "code",
   "execution_count": null,
   "metadata": {},
   "outputs": [
    {
     "data": {
      "text/plain": [
       "[<matplotlib.lines.Line2D at 0x27296ee7550>]"
      ]
     },
     "execution_count": 10,
     "metadata": {},
     "output_type": "execute_result"
    },
    {
     "data": {
      "image/png": "[encoded data removed]",
      "text/plain": [
       "<Figure size 432x288 with 1 Axes>"
      ]
     },
     "metadata": {
      "needs_background": "light"
     },
     "output_type": "display_data"
    }
   ],
   "source": [
    "# from scipy.stats import chisquare\n",
    "\n",
    "# chisqua\n",
    "N = len(data)\n",
    "\n",
    "plt.plot(np.sort(data.gamma)*N, np.ones(len(data)).cumsum())\n",
    "plt.plot([0, N], [0, N])"
   ]
  },
  {
   "cell_type": "code",
   "execution_count": 15,
   "metadata": {},
   "outputs": [
    {
     "data": {
      "text/plain": [
       "0.516790683550735"
      ]
     },
     "execution_count": 15,
     "metadata": {},
     "output_type": "execute_result"
    }
   ],
   "source": [
    "data.gamma.mean()"
   ]
  },
  {
   "cell_type": "code",
   "execution_count": 16,
   "metadata": {},
   "outputs": [
    {
     "data": {
      "text/plain": [
       "0.5200790803193192"
      ]
     },
     "execution_count": 16,
     "metadata": {},
     "output_type": "execute_result"
    }
   ],
   "source": [
    "data.obs.sum()/data.exp.sum()"
   ]
  }
 ],
 "metadata": {
  "kernelspec": {
   "display_name": "Python 3.8.10 ('hw1': venv)",
   "language": "python",
   "name": "python3"
  },
  "language_info": {
   "codemirror_mode": {
    "name": "ipython",
    "version": 3
   },
   "file_extension": ".py",
   "mimetype": "text/x-python",
   "name": "python",
   "nbconvert_exporter": "python",
   "pygments_lexer": "ipython3",
   "version": "3.8.10"
  },
  "orig_nbformat": 4,
  "vscode": {
   "interpreter": {
    "hash": "ffa5edc0387810485db66e4d31ebe97c3bd558a55682ec10bd72302249185cba"
   }
  }
 },
 "nbformat": 4,
 "nbformat_minor": 2
}
